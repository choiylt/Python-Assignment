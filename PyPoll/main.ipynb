{
 "cells": [
  {
   "cell_type": "code",
   "execution_count": null,
   "metadata": {},
   "outputs": [],
   "source": [
    "import os\n",
    "import csv\n",
    "\n",
    "# Set path for file\n",
    "csvpath = os.path.join(\"C:/Users/choiy/Desktop/Python Assignment/PyPoll/election_data.csv\")\n",
    "\n",
    "\n",
    "with open(csvpath, newline=\"\") as csvfile:\n",
    "    csvreader = csv.reader(csvfile, delimiter=\",\")\n",
    "    \n",
    "   # for row in csvreader:\n",
    "    #    if row[0] == video:\n",
    "     #       print(row[0] + \" is rated \" + row[1] + \" with a rating of \" + row[5])\n"
   ]
  },
  {
   "cell_type": "code",
   "execution_count": null,
   "metadata": {},
   "outputs": [],
   "source": [
    "file = open(\"C:/Users/choiy/Desktop/Python Assignment/PyPoll/election_data.csv\")\n",
    "numline = len(file.readlines())\n",
    "total_Votes = numline -1\n",
    "print (total_Votes) #To account for header"
   ]
  },
  {
   "cell_type": "code",
   "execution_count": null,
   "metadata": {},
   "outputs": [],
   "source": [
    "def getPercentages(finData):\n",
    "    total_"
   ]
  },
  {
   "cell_type": "code",
   "execution_count": null,
   "metadata": {},
   "outputs": [],
   "source": [
    "# Print out the wrestler's name and their percentage stats\n",
    "print(\"Election Results\")\n",
    "\n",
    "print(f\"Total votes: {str(total_Votes)}\")\n",
    "print(f\"Khan: \")\n",
    "print(f\"Correy:\")\n",
    "print(f\"Li:\")\n",
    "print(f\"O'Tooley:\" )\n",
    "print(f\"Winner: Khan\" )\n"
   ]
  }
 ],
 "metadata": {
  "kernelspec": {
   "display_name": "Python 3",
   "language": "python",
   "name": "python3"
  },
  "language_info": {
   "codemirror_mode": {
    "name": "ipython",
    "version": 3
   },
   "file_extension": ".py",
   "mimetype": "text/x-python",
   "name": "python",
   "nbconvert_exporter": "python",
   "pygments_lexer": "ipython3",
   "version": "3.7.1"
  }
 },
 "nbformat": 4,
 "nbformat_minor": 2
}
